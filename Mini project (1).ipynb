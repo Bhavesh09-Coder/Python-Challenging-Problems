{
 "cells": [
  {
   "cell_type": "markdown",
   "id": "861b988e-48d7-4e52-bc9f-a1d36c6bda25",
   "metadata": {},
   "source": [
    "# 1. Student Grade Management System"
   ]
  },
  {
   "cell_type": "code",
   "execution_count": null,
   "id": "6ee5d864-f8cc-4eb8-b96f-918dcc84545b",
   "metadata": {},
   "outputs": [],
   "source": [
    "# Initialize an empty list to store student data\n",
    "students = []\n",
    "\n",
    "# Function to add a student\n",
    "def add_student(name: str, grade: float):\n",
    "    # Append a tuple of student name and grade to the list\n",
    "    students.append((name, grade))\n",
    "\n",
    "# Function to calculate average grade\n",
    "def calculate_average():\n",
    "    # Calculate the sum of all grades and divide by the number of students\n",
    "    total = sum(grade for _, grade in students)\n",
    "    average = total / len(students)\n",
    "    return average\n",
    "\n",
    "# Function to find the highest and lowest grades\n",
    "def find_highest_lowest():\n",
    "    # Find the highest and lowest grades using max and min functions\n",
    "    highest = max(students, key=lambda student: student[1])\n",
    "    lowest = min(students, key=lambda student: student[1])\n",
    "    return highest, lowest\n",
    "\n",
    "# Adding students (Example usage)\n",
    "add_student(\"Alice\", 88.5)\n",
    "add_student(\"Bob\", 92.0)\n",
    "add_student(\"Charlie\", 79.0)\n",
    "\n",
    "# Calculate and print average grade\n",
    "average = calculate_average()\n",
    "print(f\"Average Grade: {average}\")\n",
    "\n",
    "# Find and print highest and lowest grades\n",
    "highest, lowest = find_highest_lowest()\n",
    "print(f\"Highest Grade: {highest[0]} with {highest[1]}\")\n",
    "print(f\"Lowest Grade: {lowest[0]} with {lowest[1]}\")\n"
   ]
  },
  {
   "cell_type": "markdown",
   "id": "3f604b88-b2d7-4db5-bc90-999be54ac534",
   "metadata": {},
   "source": [
    "# 2. To-Do List Application"
   ]
  },
  {
   "cell_type": "code",
   "execution_count": null,
   "id": "bbe6adaa-efe2-4cb5-aa0c-4b92f1f9531a",
   "metadata": {},
   "outputs": [],
   "source": [
    "# Initialize an empty list to store tasks\n",
    "tasks = []\n",
    "\n",
    "# Function to add a task\n",
    "def add_task(description: str):\n",
    "    # Append a dictionary with task description and status to the list\n",
    "    task = {\"description\": description, \"completed\": False}\n",
    "    tasks.append(task)\n",
    "\n",
    "# Function to mark a task as completed\n",
    "def complete_task(task_id: int):\n",
    "    # Mark the task at the given index as completed\n",
    "    if 0 <= task_id < len(tasks):\n",
    "        tasks[task_id][\"completed\"] = True\n",
    "\n",
    "# Function to display pending tasks\n",
    "def view_pending_tasks():\n",
    "    # Print only tasks that are not completed\n",
    "    for i, task in enumerate(tasks):\n",
    "        if not task[\"completed\"]:\n",
    "            print(f\"Task {i}: {task['description']}\")\n",
    "\n",
    "# Adding tasks (Example usage)\n",
    "add_task(\"Write a blog post\")\n",
    "add_task(\"Go for a run\")\n",
    "add_task(\"Read a book\")\n",
    "\n",
    "# Mark the first task as completed\n",
    "complete_task(0)\n",
    "\n",
    "# View pending tasks\n",
    "view_pending_tasks()\n"
   ]
  },
  {
   "cell_type": "markdown",
   "id": "12e8c054-8636-42fd-a587-9a66f3583565",
   "metadata": {},
   "source": [
    "# 3. Temperature Conversion Tool¶"
   ]
  },
  {
   "cell_type": "code",
   "execution_count": null,
   "id": "3ef03515-1f5d-466f-851e-89e6fb674390",
   "metadata": {},
   "outputs": [],
   "source": [
    "# Function to convert Celsius to Fahrenheit\n",
    "def celsius_to_fahrenheit(c: float) -> float:\n",
    "    return (c * 9/5) + 32\n",
    "\n",
    "# Function to convert Fahrenheit to Celsius\n",
    "def fahrenheit_to_celsius(f: float) -> float:\n",
    "    return (f - 32) * 5/9\n",
    "\n",
    "# Function to convert Celsius to Kelvin\n",
    "def celsius_to_kelvin(c: float) -> float:\n",
    "    return c + 273.15\n",
    "\n",
    "# Function to convert Kelvin to Celsius\n",
    "def kelvin_to_celsius(k: float) -> float:\n",
    "    return k - 273.15\n",
    "\n",
    "# Example usage of temperature conversion functions\n",
    "c = 25.0\n",
    "f = celsius_to_fahrenheit(c)\n",
    "k = celsius_to_kelvin(c)\n",
    "print(f\"{c}°C is {f}°F and {k}K\")\n",
    "\n",
    "f = 77.0\n",
    "c = fahrenheit_to_celsius(f)\n",
    "print(f\"{f}°F is {c}°C\")\n",
    "\n",
    "k = 300.0\n",
    "c = kelvin_to_celsius(k)\n",
    "print(f\"{k}K is {c}°C\")\n"
   ]
  }
 ],
 "metadata": {
  "kernelspec": {
   "display_name": "Python 3 (ipykernel)",
   "language": "python",
   "name": "python3"
  },
  "language_info": {
   "codemirror_mode": {
    "name": "ipython",
    "version": 3
   },
   "file_extension": ".py",
   "mimetype": "text/x-python",
   "name": "python",
   "nbconvert_exporter": "python",
   "pygments_lexer": "ipython3",
   "version": "3.12.3"
  }
 },
 "nbformat": 4,
 "nbformat_minor": 5
}
